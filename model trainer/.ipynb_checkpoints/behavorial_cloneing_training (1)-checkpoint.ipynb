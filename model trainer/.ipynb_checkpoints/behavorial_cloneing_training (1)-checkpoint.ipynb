{
 "cells": [
  {
   "cell_type": "code",
   "execution_count": 1,
   "metadata": {},
   "outputs": [
    {
     "name": "stdout",
     "output_type": "stream",
     "text": [
      "8496\n",
      "16992\n"
     ]
    }
   ],
   "source": [
    "import csv\n",
    "import cv2 \n",
    "import numpy as np\n",
    "\n",
    "lines = []\n",
    "\n",
    "with open('./driving_log.csv') as csvfile:\n",
    "    reader = csv.reader(csvfile)\n",
    "    for line in reader:\n",
    "        lines.append(line)\n",
    "        \n",
    "        \n",
    "images = []\n",
    "measurements = []\n",
    "pathlist = []\n",
    "\n",
    "for line in lines:\n",
    "    source_path = line[0]\n",
    "    filename = source_path.split('/')[-1]\n",
    "    current_path = './IMG/IMG' + '/' + filename\n",
    "    \n",
    "    image_centre = cv2.imread(current_path)\n",
    "    \n",
    "    source_path = line[1]\n",
    "    filename = source_path.split('/')[-1]\n",
    "    current_path = './IMG/IMG' + '/' + filename\n",
    "    \n",
    "    pathlist.append(current_path)\n",
    "    \n",
    "    image_left = cv2.imread(current_path)\n",
    "    #print(current_path)\n",
    "    #print(image_left.shape)\n",
    "    \n",
    "    source_path = line[2]\n",
    "    filename = source_path.split('/')[-1]\n",
    "    current_path = './IMG/IMG' + '/' + filename\n",
    "    \n",
    "    image_right = cv2.imread(current_path)\n",
    "\n",
    "    #image_full = np.vstack( (image_left, image_centre, image_left) )\n",
    "    image_full = image_centre\n",
    "    \n",
    "    images.append(image_full)\n",
    "    measurement = float(line[3])\n",
    "    measurements.append(measurement)\n",
    "\n",
    "print(len(measurements))\n",
    "\n",
    "#flip images to increase training data size\n",
    "flippr = lambda x: cv2.flip(x,1)\n",
    "measure_flipper = lambda x: x * -1\n",
    "images_mirror = [flippr(x) for x in images]  \n",
    "measure_mirror = [measure_flipper(x) for x in measurements]\n",
    "\n",
    "images = images + images_mirror\n",
    "measurements = measure_mirror + measurements\n",
    "\n",
    "print(len(measurements))\n",
    "\n",
    "X_train = np.array(images)\n",
    "y_train = np.array(measurements)\n",
    "\n"
   ]
  },
  {
   "cell_type": "code",
   "execution_count": 2,
   "metadata": {
    "collapsed": true
   },
   "outputs": [],
   "source": [
    "import csv\n",
    "import cv2 \n",
    "import numpy as np\n",
    "\n",
    "lines = []\n",
    "\n",
    "with open('./driving_log.csv') as csvfile:\n",
    "    reader = csv.reader(csvfile)\n",
    "    for line in reader:\n",
    "        lines.append(line)\n",
    "        \n",
    "\n",
    "import random\n",
    "\n",
    "\n",
    "samples = random.sample(lines, len(lines))\n",
    "\n",
    "val_samp = samples[0:int(len(samples) * 0.2)]\n",
    "train_samp = samples[int(len(samples) * 0.2) + 1 : len(samples) - 1]"
   ]
  },
  {
   "cell_type": "code",
   "execution_count": 3,
   "metadata": {},
   "outputs": [],
   "source": [
    "\n",
    "import os\n",
    "import csv\n",
    "\n",
    "samples = []\n",
    "with open('./driving_log.csv') as csvfile:\n",
    "    reader = csv.reader(csvfile)\n",
    "    for line in reader:\n",
    "        samples.append(line)\n",
    "\n",
    "from sklearn.model_selection import train_test_split\n",
    "train_samples, validation_samples = train_test_split(samples, test_size=0.2)\n",
    "\n",
    "import cv2\n",
    "import numpy as np\n",
    "import sklearn\n",
    "\n",
    "def generator(samples, batch_size=32):\n",
    "    num_samples = len(samples)\n",
    "    while 1: # Loop forever so the generator never terminates\n",
    "        \n",
    "        for offset in range(0, num_samples, batch_size):\n",
    "            batch_samples = samples[offset:offset+batch_size]\n",
    "\n",
    "            images = []\n",
    "            angles = []\n",
    "            for batch_sample in batch_samples:\n",
    "\n",
    "                \n",
    "                \n",
    "                source_path = batch_sample[0]\n",
    "                filename = source_path.split('/')[-1]\n",
    "                current_path = './IMG/IMG' + '/' + filename\n",
    "    \n",
    "                image_centre = cv2.imread(current_path)\n",
    "    \n",
    "                #source_path = batch_sample[1]\n",
    "                #filename = source_path.split('/')[-1]\n",
    "                #current_path = './IMG/IMG' + '/' + filename\n",
    "    \n",
    "                \n",
    "    \n",
    "                image_left = cv2.imread(current_path)\n",
    "                #print(current_path)\n",
    "                #print(image_left.shape)\n",
    "    \n",
    "                #source_path = batch_sample[2]\n",
    "                #filename = source_path.split('/')[-1]\n",
    "                #current_path = './IMG/IMG' + '/' + filename\n",
    "    \n",
    "                #image_right = cv2.imread(current_path)\n",
    "\n",
    "                #image_full = np.vstack( (image_left, image_centre, image_left) )\n",
    "            \n",
    "                images.append(image_full)\n",
    "                #images.append(image_centre)\n",
    "                measurement = float(batch_sample[3])\n",
    "                angles.append(measurement)\n",
    "                \n",
    "            #flip images to increase training data size\n",
    "            flippr = lambda x: cv2.flip(x,1)\n",
    "            measure_flipper = lambda x: x * -1\n",
    "            images_mirror = [flippr(x) for x in images]  \n",
    "            measure_mirror = [measure_flipper(x) for x in angles]\n",
    "\n",
    "            images = images + images_mirror\n",
    "            angles = measure_mirror + angles\n",
    "\n",
    "            # trim image to only see section with road\n",
    "            X_train = np.array(images)\n",
    "            y_train = np.array(angles)\n",
    "            yield sklearn.utils.shuffle(X_train, y_train)\n",
    "\n",
    "# compile and train the model using the generator function\n",
    "train_generator = generator(train_samp, batch_size=16)\n",
    "validation_generator = generator(val_samp, batch_size=16)\n",
    "\n"
   ]
  },
  {
   "cell_type": "code",
   "execution_count": 4,
   "metadata": {},
   "outputs": [
    {
     "data": {
      "text/plain": [
       "25489"
      ]
     },
     "execution_count": 4,
     "metadata": {},
     "output_type": "execute_result"
    }
   ],
   "source": [
    "len(os.listdir(path='./IMG/IMG'))"
   ]
  },
  {
   "cell_type": "code",
   "execution_count": 5,
   "metadata": {},
   "outputs": [
    {
     "data": {
      "text/plain": [
       "(160, 320, 3)"
      ]
     },
     "execution_count": 5,
     "metadata": {},
     "output_type": "execute_result"
    }
   ],
   "source": [
    "#for line in lines:\n",
    "#    source_path = line[2]\n",
    "#    filename = source_path.split('/')\n",
    "#    print(filename)\n",
    "images[1].shape"
   ]
  },
  {
   "cell_type": "code",
   "execution_count": null,
   "metadata": {
    "collapsed": true
   },
   "outputs": [],
   "source": [
    "\n"
   ]
  },
  {
   "cell_type": "code",
   "execution_count": null,
   "metadata": {},
   "outputs": [
    {
     "name": "stderr",
     "output_type": "stream",
     "text": [
      "Using TensorFlow backend.\n"
     ]
    },
    {
     "name": "stdout",
     "output_type": "stream",
     "text": [
      "Train on 13593 samples, validate on 3399 samples\n",
      "Epoch 1/15\n"
     ]
    }
   ],
   "source": [
    "\n",
    "from keras.models import Sequential\n",
    "from keras.layers import Flatten, Dense, Activation, Convolution2D, AveragePooling2D, Cropping2D, Lambda\n",
    "\n",
    "model = Sequential()\n",
    "\n",
    "\n",
    "\n",
    "model.add(Lambda(lambda x: x / 255.0 - 0.5, input_shape=(160, 320, 3)))\n",
    "\n",
    "\n",
    "model.add(AveragePooling2D(pool_size=(2, 2)))\n",
    "\n",
    "model.add(Convolution2D(24,5,5, subsample=(2,2), activation=\"relu\"))\n",
    "model.add(Convolution2D(36,5,5, subsample=(2,2), activation=\"relu\"))\n",
    "model.add(Convolution2D(48,5,5, subsample=(2,2), activation=\"relu\"))\n",
    "model.add(Convolution2D(64,3,3, activation=\"relu\"))\n",
    "model.add(Convolution2D(64,3,3, activation=\"relu\"))\n",
    "model.add(Flatten())\n",
    "model.add(Dense(100))\n",
    "model.add(Dense(50))\n",
    "model.add(Dense(10))\n",
    "model.add(Dense(1))\n",
    "\n",
    "model.compile(loss='mse', optimizer='adam')\n",
    "\n",
    "model.fit(X_train, y_train, validation_split=0.2, shuffle=True,\n",
    "         nb_epoch=15)\n",
    "\n",
    "#model.fit_generator(train_generator, samples_per_epoch= \n",
    "#            len(train_samp)*2, validation_data=validation_generator, \n",
    "#        nb_val_samples=len(val_samp)*2, nb_epoch=7)\n",
    "model.save('model3.h5')\n",
    "\n",
    "\n",
    "\n"
   ]
  },
  {
   "cell_type": "code",
   "execution_count": null,
   "metadata": {
    "collapsed": true
   },
   "outputs": [],
   "source": [
    "z = next(train_generator)"
   ]
  },
  {
   "cell_type": "code",
   "execution_count": null,
   "metadata": {
    "collapsed": true
   },
   "outputs": [],
   "source": [
    "# training loss = 1.0672, val loss 1.1047  fully optimized by end of first epoch \n",
    "#training loss = 0.0639 val 0.1567 base to 128 with relu activation functions either side\n",
    "#convolution of 32 3 3 with relu activation to \n",
    "#modelv.4 with all 3 images vstacked 12 relu 12 relu 1 loss \n",
    "#with flipped images val loss goes to 0.11%\n",
    "#with flipped and all 3  loss is 0.047 and val loss is 0.03"
   ]
  },
  {
   "cell_type": "code",
   "execution_count": null,
   "metadata": {
    "collapsed": true
   },
   "outputs": [],
   "source": [
    "z[0]"
   ]
  },
  {
   "cell_type": "code",
   "execution_count": null,
   "metadata": {
    "collapsed": true
   },
   "outputs": [],
   "source": []
  }
 ],
 "metadata": {
  "kernelspec": {
   "display_name": "Python 3",
   "language": "python",
   "name": "python3"
  },
  "language_info": {
   "codemirror_mode": {
    "name": "ipython",
    "version": 3
   },
   "file_extension": ".py",
   "mimetype": "text/x-python",
   "name": "python",
   "nbconvert_exporter": "python",
   "pygments_lexer": "ipython3",
   "version": "3.5.2"
  },
  "widgets": {
   "state": {},
   "version": "1.1.2"
  }
 },
 "nbformat": 4,
 "nbformat_minor": 1
}
