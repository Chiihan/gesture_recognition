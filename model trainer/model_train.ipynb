{
 "cells": [
  {
   "cell_type": "code",
   "execution_count": 3,
   "metadata": {
    "collapsed": false
   },
   "outputs": [],
   "source": [
    "import tensorflow as tf\n",
    "from itertools import compress\n",
    "import csv\n",
    "#import cv2\n",
    "import numpy as np\n",
    "import os\n",
    "import re as re\n",
    "from itertools import compress\n",
    "from PIL import Image\n",
    "training_data_dir = \"/Users/christophersheehan/Desktop/cpp projects/thumbs up detector/model trainer/training_data\""
   ]
  },
  {
   "cell_type": "code",
   "execution_count": 2,
   "metadata": {
    "collapsed": true
   },
   "outputs": [],
   "source": []
  },
  {
   "cell_type": "code",
   "execution_count": null,
   "metadata": {
    "collapsed": true
   },
   "outputs": [],
   "source": []
  },
  {
   "cell_type": "code",
   "execution_count": null,
   "metadata": {
    "collapsed": false
   },
   "outputs": [],
   "source": [
    "def one_hot_encoder(classifier_string):\n",
    "    \n",
    "    # Take classifer string and return a binary numpy \n",
    "    # row to use for model training\n",
    "    # options are hardcoded in\n",
    "    \n",
    "    classifer_encoding = 'none'\n",
    "    \n",
    "    if classifier_string == 'peace':\n",
    "        \n",
    "        classifer_encoding = np.matrix([1, 0, 0, 0])\n",
    "        \n",
    "    if classifier_string == 'thumbs_up':\n",
    "        \n",
    "        classifer_encoding = np.matrix([0, 1, 0, 0])\n",
    "        \n",
    "    if classifier_string == 'middle_finger':\n",
    "        \n",
    "        classifer_encoding = np.matrix([0, 0, 1, 0])\n",
    "        \n",
    "    if classifier_string == 'fist':\n",
    "        \n",
    "        classifer_encoding = np.matrix([0, 0, 0, 1])\n",
    "        \n",
    "    if classifer_encoding == 'none':\n",
    "        \n",
    "        print('classifer not found')\n",
    "        \n",
    "        return\n",
    "    \n",
    "    return classifer_encoding\n",
    "\n",
    "\n",
    "class MaskableList(list):\n",
    "    \n",
    "    def __getitem__(self, index):\n",
    "        \n",
    "        try: return super(MaskableList, self).__getitem__(index)\n",
    "        \n",
    "        except TypeError: return MaskableList(compress(self, index))\n",
    "    \n",
    "    "
   ]
  },
  {
   "cell_type": "code",
   "execution_count": null,
   "metadata": {
    "collapsed": false
   },
   "outputs": [],
   "source": [
    "training_data_files = os.listdir(training_data_dir)\n",
    "\n",
    "training_data_folders  = [i for i in training_data_files if not '.' in i]\n",
    "\n",
    "print('Unique gestures are : ')\n",
    "\n",
    "print(training_data_folders)\n",
    "\n",
    "temp_list = []\n",
    "\n",
    "file_count = 0\n",
    "\n",
    "for i in training_data_folders:\n",
    "    \n",
    "    temp_file_list = os.listdir(training_data_dir + '/' + i)\n",
    "    \n",
    "    for j in temp_file_list:\n",
    "        \n",
    "        temp_file_address = training_data_dir + '/' + i + '/' + j\n",
    "        \n",
    "        temp_image = cv2.imread(temp_file_address)\n",
    "        \n",
    "        temp_list.append(temp_image)\n",
    "        \n",
    "        temp_np_row = one_hot_encoder(i)\n",
    "        \n",
    "        if file_count == 0:\n",
    "            \n",
    "            gesture_hot_encoding = temp_np_row\n",
    "            \n",
    "            file_count = file_count + 1\n",
    "            \n",
    "        else:\n",
    "            \n",
    "            gesture_hot_encoding = np.vstack( (gesture_hot_encoding, temp_np_row) ) \n",
    "            \n",
    "image_data = MaskableList(temp_list)\n",
    "\n",
    "msk = np.random.rand(len(image_data)) > 0.8\n",
    "\n",
    "msk = np.array(msk)\n",
    "\n",
    "test_hot_encoding = gesture_hot_encoding[~msk]\n",
    "\n",
    "training_hot_encoding = gesture_hot_encoding[msk]\n",
    "\n",
    "test_images = image_data[msk]\n",
    "\n",
    "training_images = image_data[~msk]"
   ]
  },
  {
   "cell_type": "code",
   "execution_count": null,
   "metadata": {
    "collapsed": false,
    "scrolled": true
   },
   "outputs": [],
   "source": [
    "model = tf.keras.models.Sequential([\n",
    "  tf.keras.layers.Flatten(),\n",
    "  tf.keras.layers.Dense(512, activation=tf.nn.relu),\n",
    "  tf.keras.layers.Dropout(0.2),\n",
    "  tf.keras.layers.Dense(10, activation=tf.nn.softmax)\n",
    "])"
   ]
  },
  {
   "cell_type": "code",
   "execution_count": null,
   "metadata": {
    "collapsed": false
   },
   "outputs": [],
   "source": [
    "print(tf.__version__)"
   ]
  },
  {
   "cell_type": "markdown",
   "metadata": {},
   "source": [
    "image_data"
   ]
  },
  {
   "cell_type": "code",
   "execution_count": null,
   "metadata": {
    "collapsed": false
   },
   "outputs": [],
   "source": []
  },
  {
   "cell_type": "code",
   "execution_count": null,
   "metadata": {
    "collapsed": true
   },
   "outputs": [],
   "source": [
    "model"
   ]
  },
  {
   "cell_type": "code",
   "execution_count": null,
   "metadata": {
    "collapsed": false
   },
   "outputs": [],
   "source": []
  }
 ],
 "metadata": {
  "kernelspec": {
   "display_name": "“gesture_recog“",
   "language": "python",
   "name": "gesture_recog"
  },
  "language_info": {
   "codemirror_mode": {
    "name": "ipython",
    "version": 3
   },
   "file_extension": ".py",
   "mimetype": "text/x-python",
   "name": "python",
   "nbconvert_exporter": "python",
   "pygments_lexer": "ipython3",
   "version": "3.6.6"
  }
 },
 "nbformat": 4,
 "nbformat_minor": 0
}
